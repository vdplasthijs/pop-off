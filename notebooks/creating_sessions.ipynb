{
 "cells": [
  {
   "cell_type": "code",
   "execution_count": 4,
   "metadata": {},
   "outputs": [
    {
     "name": "stdout",
     "output_type": "stream",
     "text": [
      "The autoreload extension is already loaded. To reload it, use:\n",
      "  %reload_ext autoreload\n"
     ]
    }
   ],
   "source": [
    "## Following lines such that modules are automatically updated:\n",
    "%load_ext autoreload\n",
    "%autoreload 2\n",
    "\n",
    "import matplotlib.pyplot as plt\n",
    "import numpy as np\n",
    "import os, sys\n",
    "import popoff  # custom package with all code routines\n",
    "import pop_off_plotting as pop  # module with plotting functions\n",
    "import pop_off_functions as pof  # module with analysis functions\n",
    "from Session import SessionLite, Session  # Class object that holds data of 1 recording session\n",
    "from linear_model import PoolAcrossSessions, LinearModel, MultiSessionModel  # Classes that hold multiple Sessions\n",
    "import loadpaths \n",
    "\n",
    "pathdict = loadpaths.loadpaths()\n",
    "pathdict\n",
    "\n",
    "# path_to_vape = os.path.expanduser('~/Documents/code/Vape')\n",
    "sys.path.append(pathdict['vape_path'])\n",
    "sys.path.append(os.path.join(pathdict['vape_path'], 'jupyter'))\n",
    "sys.path.append(os.path.join(pathdict['vape_path'], 'utils'))\n",
    "\n",
    "# # Folder containing mice folders with individual run pkls\n",
    "# pkl_path = '/home/jrowland/Documents/code/Vape/run_pkls'\n",
    "# pkl_path = pathdict['pkl_path']\n",
    "pkl_path = '/home/tplas/data/mice/runs/'\n",
    "\n",
    "\n",
    "import utils_funcs as utils\n",
    "import run_functions as rf\n",
    "from subsets_analysis import Subsets\n",
    "import pickle"
   ]
  },
  {
   "cell_type": "code",
   "execution_count": 16,
   "metadata": {},
   "outputs": [],
   "source": [
    "## Load data\n",
    "sessions = {}\n",
    "\n",
    "def only_numerics(seq):\n",
    "    seq_type= type(seq)\n",
    "    return seq_type().join(filter(seq_type.isdigit, seq))\n",
    "\n",
    "def load_files(save_dict, data_dict, folder_path):\n",
    "    total_ds = 0\n",
    "    for mouse in data_dict.keys():\n",
    "        for run_number in data_dict[mouse]:\n",
    "            try:  # try/except framework to filter datasets that don't work - for whatever reason\n",
    "                save_dict[total_ds] = Session(mouse, run_number, folder_path, pre_gap_seconds=0,\n",
    "                                              post_gap_seconds=0, post_seconds=8)  # use_spks=False\n",
    "                total_ds += 1\n",
    "                print(f'succesfully loaded mouse {mouse}, run {run_number}')\n",
    "            except AttributeError:\n",
    "                pass\n",
    "#                 print(f'error in mouse {mouse}, run {run_number}')\n",
    "    return save_dict, total_ds\n"
   ]
  },
  {
   "cell_type": "code",
   "execution_count": 19,
   "metadata": {},
   "outputs": [
    {
     "name": "stdout",
     "output_type": "stream",
     "text": [
      "['RL070', 'RL117', 'RL116', 'RL123', 'J064']\n",
      "{'RL070': [28, 29], 'RL117': [26, 29, 30], 'RL116': [32, 33], 'RL123': [22], 'J064': [10, 11, 14]}\n",
      "Now loading mouse RL070, run 28\n",
      "/home/tplas/data/mice/runs/RL070/run28.pkl\n",
      "microcontroller trial starts occur on average -70.14 ms from galvo trial starts\n",
      "session RL070_R28: 592 kept, 33 filtered, 625 total\n",
      "33 / 625 cells filtered\n",
      "succesfully loaded mouse RL070, run 28\n",
      "Now loading mouse RL070, run 29\n",
      "/home/tplas/data/mice/runs/RL070/run29.pkl\n",
      "microcontroller trial starts occur on average nan ms from galvo trial starts\n",
      "session RL070_R29: 683 kept, 35 filtered, 718 total\n",
      "35 / 718 cells filtered\n",
      "succesfully loaded mouse RL070, run 29\n",
      "Now loading mouse RL117, run 26\n",
      "/home/tplas/data/mice/runs/RL117/run26.pkl\n",
      "microcontroller trial starts occur on average nan ms from galvo trial starts\n",
      "session RL117_R26: 426 kept, 32 filtered, 458 total\n",
      "32 / 458 cells filtered\n",
      "succesfully loaded mouse RL117, run 26\n",
      "Now loading mouse RL117, run 29\n",
      "/home/tplas/data/mice/runs/RL117/run29.pkl\n",
      "microcontroller trial starts occur on average nan ms from galvo trial starts\n",
      "session RL117_R29: 388 kept, 119 filtered, 507 total\n",
      "119 / 507 cells filtered\n",
      "succesfully loaded mouse RL117, run 29\n",
      "Now loading mouse RL117, run 30\n",
      "/home/tplas/data/mice/runs/RL117/run30.pkl\n",
      "microcontroller trial starts occur on average nan ms from galvo trial starts\n",
      "session RL117_R30: 529 kept, 204 filtered, 733 total\n",
      "204 / 733 cells filtered\n",
      "succesfully loaded mouse RL117, run 30\n",
      "Now loading mouse RL116, run 32\n",
      "/home/tplas/data/mice/runs/RL116/run32.pkl\n",
      "microcontroller trial starts occur on average nan ms from galvo trial starts\n",
      "session RL116_R32: 300 kept, 45 filtered, 345 total\n",
      "45 / 345 cells filtered\n",
      "succesfully loaded mouse RL116, run 32\n",
      "Now loading mouse RL116, run 33\n",
      "/home/tplas/data/mice/runs/RL116/run33.pkl\n",
      "microcontroller trial starts occur on average -74.23 ms from galvo trial starts\n",
      "session RL116_R33: 329 kept, 65 filtered, 394 total\n",
      "65 / 394 cells filtered\n",
      "succesfully loaded mouse RL116, run 33\n",
      "Now loading mouse RL123, run 22\n",
      "/home/tplas/data/mice/runs/RL123/run22.pkl\n",
      "microcontroller trial starts occur on average -81.19 ms from galvo trial starts\n",
      "session RL123_R22: 494 kept, 58 filtered, 552 total\n",
      "58 / 552 cells filtered\n",
      "succesfully loaded mouse RL123, run 22\n",
      "Now loading mouse J064, run 10\n",
      "/home/tplas/data/mice/runs/J064/run10.pkl\n",
      "microcontroller trial starts occur on average nan ms from galvo trial starts\n",
      "session J064_R10: 471 kept, 6 filtered, 477 total\n",
      "6 / 477 cells filtered\n",
      "succesfully loaded mouse J064, run 10\n",
      "Now loading mouse J064, run 11\n",
      "/home/tplas/data/mice/runs/J064/run11.pkl\n",
      "microcontroller trial starts occur on average -52.47 ms from galvo trial starts\n",
      "session J064_R11: 788 kept, 14 filtered, 802 total\n",
      "14 / 802 cells filtered\n",
      "succesfully loaded mouse J064, run 11\n",
      "Now loading mouse J064, run 14\n",
      "/home/tplas/data/mice/runs/J064/run14.pkl\n",
      "microcontroller trial starts occur on average nan ms from galvo trial starts\n",
      "session J064_R14: 919 kept, 62 filtered, 981 total\n",
      "62 / 981 cells filtered\n",
      "succesfully loaded mouse J064, run 14\n",
      "The following sessions were loaded:\n",
      "Mouse RL070, run 28 - frequency: 30\n",
      "Mouse RL070, run 29 - frequency: 30\n",
      "Mouse RL117, run 26 - frequency: 30\n",
      "Mouse RL117, run 29 - frequency: 30\n",
      "Mouse RL117, run 30 - frequency: 30\n",
      "Mouse RL116, run 32 - frequency: 30\n",
      "Mouse RL116, run 33 - frequency: 30\n",
      "Mouse RL123, run 22 - frequency: 30\n",
      "Mouse J064, run 10 - frequency: 30\n",
      "Mouse J064, run 11 - frequency: 30\n",
      "Mouse J064, run 14 - frequency: 30\n"
     ]
    }
   ],
   "source": [
    "\n",
    "## Select all possible mouse/run combos:\n",
    "# pkl_path = '/mnt/qnap_jrowland/run_pkls'\n",
    "# all_mice = [x for x in os.listdir(pkl_path) if x[-4:] != '.pkl']\n",
    "# run_dict = {m: list(np.unique([int(only_numerics(x)) for x in os.listdir(pkl_path + f'/{m}')])) for m in all_mice}\n",
    "# run_dict = {'J064' : [10],\n",
    "#             'RL048': [23]}\n",
    "# sessions, total_ds = load_files(save_dict=sessions, data_dict=run_dict, folder_path=pkl_path)\n",
    "\n",
    "all_mice = [x for x in os.listdir(pkl_path) if x[-4:] != '.pkl']\n",
    "# all_mice = ['J048', 'RL048']\n",
    "run_dict = {m: list(np.unique([int(only_numerics(x)) for x in os.listdir(pkl_path + f'/{m}')])) for m in all_mice}\n",
    "#run_dict = {'J048': [27], 'RL070': [28, 29]}\n",
    "#run_dict = {'RL070': [29]}\n",
    "\n",
    "print(all_mice)\n",
    "print(run_dict)\n",
    "\n",
    "assert sum([len(m) for m in run_dict.values()]) == 11\n",
    "sessions, total_ds = load_files(save_dict=sessions, data_dict=run_dict, folder_path=pkl_path)\n",
    "     \n",
    "print('The following sessions were loaded:')\n",
    "for _, ss in sessions.items():\n",
    "    print(ss, '- frequency:', ss.frequency)"
   ]
  },
  {
   "cell_type": "code",
   "execution_count": 18,
   "metadata": {},
   "outputs": [
    {
     "data": {
      "text/plain": [
       "{}"
      ]
     },
     "execution_count": 18,
     "metadata": {},
     "output_type": "execute_result"
    }
   ],
   "source": [
    "sessions"
   ]
  },
  {
   "cell_type": "markdown",
   "metadata": {},
   "source": [
    "Overview Rowland et al. cells filtering (max $\\Delta F/F$ > 10):\n",
    "- session J064_R10: 471 kept, 6 excluded, 477 total\n",
    "- session J064_R11: 788 kept, 14 excluded, 802 total\n",
    "- session J064_R14: 919 kept, 62 excluded, 981 total\n",
    "- session RL070_R28: 592 kept, 33 excluded, 625 total\n",
    "- session RL070_R29: 683 kept, 35 excluded, 718 total\n",
    "- session RL117_R26: 426 kept, 32 excluded, 458 total\n",
    "- session RL117_R29: 388 kept, 119 excluded, 507 tot\n",
    "- session RL117_R30: 529 kept, 204 excluded, 733 total\n",
    "- session RL116_R32: 300 kept, 45 excluded, 345 total\n",
    "- session RL116_R33: 329 kept, 65 excluded, 394 total\n",
    "- session RL123_R22: 494 kept, 58 excluded, 552 total"
   ]
  },
  {
   "cell_type": "code",
   "execution_count": null,
   "metadata": {},
   "outputs": [],
   "source": []
  }
 ],
 "metadata": {
  "kernelspec": {
   "display_name": "pope",
   "language": "python",
   "name": "python3"
  },
  "language_info": {
   "codemirror_mode": {
    "name": "ipython",
    "version": 3
   },
   "file_extension": ".py",
   "mimetype": "text/x-python",
   "name": "python",
   "nbconvert_exporter": "python",
   "pygments_lexer": "ipython3",
   "version": "3.7.10"
  }
 },
 "nbformat": 4,
 "nbformat_minor": 2
}
